{
  "nbformat": 4,
  "nbformat_minor": 0,
  "metadata": {
    "colab": {
      "name": "hackathon.ipynb",
      "provenance": [],
      "collapsed_sections": []
    },
    "kernelspec": {
      "name": "python3",
      "display_name": "Python 3"
    },
    "language_info": {
      "name": "python"
    }
  },
  "cells": [
    {
      "cell_type": "code",
      "source": [
        "!sudo -H pip install --upgrade youtube-dl"
      ],
      "metadata": {
        "id": "ztTMP0_AT77k",
        "colab": {
          "base_uri": "https://localhost:8080/"
        },
        "outputId": "f63b74b8-4fa5-494b-eeb6-ca234ce02193"
      },
      "execution_count": 1,
      "outputs": [
        {
          "output_type": "stream",
          "name": "stdout",
          "text": [
            "Collecting youtube-dl\n",
            "  Downloading youtube_dl-2021.12.17-py2.py3-none-any.whl (1.9 MB)\n",
            "\u001b[K     |████████████████████████████████| 1.9 MB 5.4 MB/s \n",
            "\u001b[?25hInstalling collected packages: youtube-dl\n",
            "Successfully installed youtube-dl-2021.12.17\n"
          ]
        }
      ]
    },
    {
      "cell_type": "code",
      "source": [
        "!pip install keyframe"
      ],
      "metadata": {
        "colab": {
          "base_uri": "https://localhost:8080/"
        },
        "id": "Q_j8JXn0mw9j",
        "outputId": "e35af2d6-63a8-4690-99d5-2b5b462e0a79"
      },
      "execution_count": 5,
      "outputs": [
        {
          "output_type": "stream",
          "name": "stdout",
          "text": [
            "\u001b[31mERROR: Could not find a version that satisfies the requirement keyframe (from versions: none)\u001b[0m\n",
            "\u001b[31mERROR: No matching distribution found for keyframe\u001b[0m\n"
          ]
        }
      ]
    },
    {
      "cell_type": "code",
      "source": [
        "!youtube-dl https://www.youtube.com/watch?v=CJm7FbpDFsE&t=20s"
      ],
      "metadata": {
        "colab": {
          "base_uri": "https://localhost:8080/"
        },
        "id": "Hgn9AU-9gi6W",
        "outputId": "069e7a95-8cf4-46dc-839a-134e24279c24"
      },
      "execution_count": 2,
      "outputs": [
        {
          "output_type": "stream",
          "name": "stdout",
          "text": [
            "[youtube] CJm7FbpDFsE: Downloading webpage\n",
            "[download] Destination: Pedestrian Safety-CJm7FbpDFsE.f135.mp4\n",
            "\u001b[K[download] 100% of 56.00MiB in 18:05\n",
            "[download] Destination: Pedestrian Safety-CJm7FbpDFsE.f140.m4a\n",
            "\u001b[K[download] 100% of 8.36MiB in 02:42\n",
            "[ffmpeg] Merging formats into \"Pedestrian Safety-CJm7FbpDFsE.mp4\"\n",
            "Deleting original file Pedestrian Safety-CJm7FbpDFsE.f135.mp4 (pass -k to keep)\n",
            "Deleting original file Pedestrian Safety-CJm7FbpDFsE.f140.m4a (pass -k to keep)\n"
          ]
        }
      ]
    },
    {
      "cell_type": "code",
      "source": [
        "# %cd data\n",
        "!ls"
      ],
      "metadata": {
        "id": "fccH38U_gjI3"
      },
      "execution_count": 29,
      "outputs": []
    },
    {
      "cell_type": "code",
      "source": [
        "import os\n",
        "import cv2\n",
        "import subprocess\n",
        "import numpy as np\n",
        "filename = '/content/ped.mp4'\n",
        "\n",
        "def get_frame_types(video_fn):\n",
        "    command = 'ffprobe -v error -show_entries frame=pict_type -of default=noprint_wrappers=1'.split()\n",
        "    out = subprocess.check_output(command + [video_fn]).decode()\n",
        "    frame_types = out.replace('pict_type=','').split()\n",
        "    return zip(range(len(frame_types)), frame_types)\n",
        "\n",
        "def save_i_keyframes(video_fn):\n",
        "    frame_types = get_frame_types(video_fn)\n",
        "    i_frames = [x[0] for x in frame_types if x[1]=='I']\n",
        "    \n",
        "    count=0\n",
        "    if i_frames:\n",
        "        basename = os.path.splitext(os.path.basename(video_fn))[0]\n",
        "        cap = cv2.VideoCapture(video_fn)\n",
        "        ret, prev = cap.read()\n",
        "        \n",
        "        grayImage = cv2.cvtColor(prev, cv2.COLOR_BGR2GRAY)\n",
        "        (thresh, prev) = cv2.threshold(grayImage, 127, 255, cv2.THRESH_BINARY)\n",
        "        for frame_no in i_frames:\n",
        "            cap.set(cv2.CAP_PROP_POS_FRAMES, frame_no)\n",
        "            \n",
        "            \n",
        "            ret, frame = cap.read()\n",
        "            grayImage = cv2.cvtColor(frame, cv2.COLOR_BGR2GRAY)\n",
        "            (thresh, frameNew) = cv2.threshold(grayImage, 127, 255, cv2.THRESH_BINARY)\n",
        "            diff = cv2.absdiff(prev, frameNew)\n",
        "            non_zero_count = np.count_nonzero(diff)\n",
        "            #print(non_zero_count)\n",
        "            if non_zero_count>1000:\n",
        "                print(non_zero_count)\n",
        "                c=str(count)\n",
        "                while len(c)!=3: c=\"0\"+c\n",
        "                outname = basename+'_i_frame_'+str(c)+'.jpg'\n",
        "                cv2.imwrite(outname, frame)\n",
        "                count+=1\n",
        "                print ('Saved: '+outname)\n",
        "            prev=frameNew\n",
        "        cap.release()\n",
        "    else:\n",
        "        print ('No I-frames in '+video_fn)\n",
        "\"\"\"\n",
        "video_path = \"video.mkv\"\n",
        "p_frame_thresh = 900000 # You may need to adjust this threshold\n",
        "\n",
        "cap = cv2.VideoCapture(video_path)\n",
        "# Read the first frame.\n",
        "ret, prev_frame = cap.read()\n",
        "frame_no=0\n",
        "while ret:\n",
        "    ret, curr_frame = cap.read()\n",
        "\n",
        "    if ret:\n",
        "        diff = cv2.absdiff(curr_frame, prev_frame)\n",
        "        non_zero_count = np.count_nonzero(diff)\n",
        "        if non_zero_count > p_frame_thresh:\n",
        "            \n",
        "            outname = \"zzz\"+str(frame_no)+'.jpg'\n",
        "            frame_no+=1\n",
        "            \n",
        "            cv2.imwrite(outname, curr_frame)\n",
        "        prev_frame = curr_frame\n",
        "\"\"\"\n",
        "if __name__ == '__main__':\n",
        "    save_i_keyframes(filename) "
      ],
      "metadata": {
        "id": "GR_ae-UzT7-Z"
      },
      "execution_count": null,
      "outputs": []
    }
  ]
}